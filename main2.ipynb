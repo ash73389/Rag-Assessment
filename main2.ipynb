{
 "cells": [
  {
   "cell_type": "code",
   "execution_count": 1,
   "metadata": {},
   "outputs": [
    {
     "name": "stderr",
     "output_type": "stream",
     "text": [
      "\n",
      "[notice] A new release of pip is available: 24.0 -> 25.0.1\n",
      "[notice] To update, run: python.exe -m pip install --upgrade pip\n",
      "\n",
      "[notice] A new release of pip is available: 24.0 -> 25.0.1\n",
      "[notice] To update, run: python.exe -m pip install --upgrade pip\n",
      "\n",
      "[notice] A new release of pip is available: 24.0 -> 25.0.1\n",
      "[notice] To update, run: python.exe -m pip install --upgrade pip\n"
     ]
    }
   ],
   "source": [
    "!pip install -q langchain\n",
    "!pip install -q sentence-transformers\n",
    "!pip install -q faiss-cpu"
   ]
  },
  {
   "cell_type": "code",
   "execution_count": 2,
   "metadata": {},
   "outputs": [
    {
     "name": "stdout",
     "output_type": "stream",
     "text": [
      "Requirement already satisfied: PyPDF in c:\\users\\ashwi\\desktop\\rag\\venv2\\lib\\site-packages (5.2.0)"
     ]
    },
    {
     "name": "stderr",
     "output_type": "stream",
     "text": [
      "\n",
      "[notice] A new release of pip is available: 24.0 -> 25.0.1\n",
      "[notice] To update, run: python.exe -m pip install --upgrade pip\n"
     ]
    },
    {
     "name": "stdout",
     "output_type": "stream",
     "text": [
      "\n"
     ]
    }
   ],
   "source": [
    "!pip install PyPDF"
   ]
  },
  {
   "cell_type": "code",
   "execution_count": 1,
   "metadata": {},
   "outputs": [
    {
     "name": "stderr",
     "output_type": "stream",
     "text": [
      "c:\\Users\\ashwi\\Desktop\\rag\\venv2\\Lib\\site-packages\\tqdm\\auto.py:21: TqdmWarning: IProgress not found. Please update jupyter and ipywidgets. See https://ipywidgets.readthedocs.io/en/stable/user_install.html\n",
      "  from .autonotebook import tqdm as notebook_tqdm\n"
     ]
    }
   ],
   "source": [
    "from langchain.document_loaders import HuggingFaceDatasetLoader\n",
    "from langchain.text_splitter import RecursiveCharacterTextSplitter\n",
    "from langchain.embeddings import HuggingFaceEmbeddings\n",
    "from langchain.vectorstores import FAISS\n",
    "from transformers import AutoTokenizer, AutoModelForQuestionAnswering\n",
    "from transformers import AutoTokenizer, pipeline\n",
    "from langchain import HuggingFacePipeline\n",
    "from langchain.chains import RetrievalQA"
   ]
  },
  {
   "cell_type": "code",
   "execution_count": 2,
   "metadata": {},
   "outputs": [],
   "source": [
    "from langchain.document_loaders import PyPDFLoader\n",
    "loader = PyPDFLoader(\"ash/1706.03762v7.pdf\")\n",
    "documents = loader.load()\n"
   ]
  },
  {
   "cell_type": "code",
   "execution_count": 3,
   "metadata": {},
   "outputs": [],
   "source": [
    "text_splitter = RecursiveCharacterTextSplitter()\n",
    "chunks = text_splitter.split_documents(documents)"
   ]
  },
  {
   "cell_type": "code",
   "execution_count": 4,
   "metadata": {},
   "outputs": [
    {
     "name": "stderr",
     "output_type": "stream",
     "text": [
      "C:\\Users\\ashwi\\AppData\\Local\\Temp\\ipykernel_5880\\1567158497.py:6: LangChainDeprecationWarning: The class `HuggingFaceEmbeddings` was deprecated in LangChain 0.2.2 and will be removed in 1.0. An updated version of the class exists in the :class:`~langchain-huggingface package and should be used instead. To use it run `pip install -U :class:`~langchain-huggingface` and import as `from :class:`~langchain_huggingface import HuggingFaceEmbeddings``.\n",
      "  embeddings = HuggingFaceEmbeddings(\n"
     ]
    }
   ],
   "source": [
    "modelPath = \"sentence-transformers/all-MiniLM-l6-v2\"\n",
    "model_kwargs = {'device':'cpu'}\n",
    "\n",
    "encode_kwargs = {'normalize_embeddings': False}\n",
    "\n",
    "embeddings = HuggingFaceEmbeddings(\n",
    "    model_name=modelPath,     \n",
    "    model_kwargs=model_kwargs,\n",
    "    encode_kwargs=encode_kwargs\n",
    ")"
   ]
  },
  {
   "cell_type": "code",
   "execution_count": 5,
   "metadata": {},
   "outputs": [
    {
     "data": {
      "text/plain": [
       "[-0.06751074641942978, -0.01547260396182537, -0.06012897193431854]"
      ]
     },
     "execution_count": 5,
     "metadata": {},
     "output_type": "execute_result"
    }
   ],
   "source": [
    "text = \"encoder\"\n",
    "query_result = embeddings.embed_query(text)\n",
    "query_result[:3]"
   ]
  },
  {
   "cell_type": "code",
   "execution_count": 6,
   "metadata": {},
   "outputs": [],
   "source": [
    "db = FAISS.from_documents(chunks, embeddings)"
   ]
  },
  {
   "cell_type": "code",
   "execution_count": 7,
   "metadata": {},
   "outputs": [
    {
     "name": "stdout",
     "output_type": "stream",
     "text": [
      "Table 2: The Transformer achieves better BLEU scores than previous state-of-the-art models on the\n",
      "English-to-German and English-to-French newstest2014 tests at a fraction of the training cost.\n",
      "Model\n",
      "BLEU Training Cost (FLOPs)\n",
      "EN-DE EN-FR EN-DE EN-FR\n",
      "ByteNet [18] 23.75\n",
      "Deep-Att + PosUnk [39] 39.2 1.0 · 1020\n",
      "GNMT + RL [38] 24.6 39.92 2.3 · 1019 1.4 · 1020\n",
      "ConvS2S [9] 25.16 40.46 9.6 · 1018 1.5 · 1020\n",
      "MoE [32] 26.03 40.56 2.0 · 1019 1.2 · 1020\n",
      "Deep-Att + PosUnk Ensemble [39] 40.4 8.0 · 1020\n",
      "GNMT + RL Ensemble [38] 26.30 41.16 1.8 · 1020 1.1 · 1021\n",
      "ConvS2S Ensemble [9] 26.36 41.29 7.7 · 1019 1.2 · 1021\n",
      "Transformer (base model) 27.3 38.1 3.3 · 1018\n",
      "Transformer (big) 28.4 41.8 2.3 · 1019\n",
      "Residual Dropout We apply dropout [33] to the output of each sub-layer, before it is added to the\n",
      "sub-layer input and normalized. In addition, we apply dropout to the sums of the embeddings and the\n",
      "positional encodings in both the encoder and decoder stacks. For the base model, we use a rate of\n",
      "Pdrop = 0.1.\n",
      "Label Smoothing During training, we employed label smoothing of value ϵls = 0.1 [36]. This\n",
      "hurts perplexity, as the model learns to be more unsure, but improves accuracy and BLEU score.\n",
      "6 Results\n",
      "6.1 Machine Translation\n",
      "On the WMT 2014 English-to-German translation task, the big transformer model (Transformer (big)\n",
      "in Table 2) outperforms the best previously reported models (including ensembles) by more than 2.0\n",
      "BLEU, establishing a new state-of-the-art BLEU score of 28.4. The configuration of this model is\n",
      "listed in the bottom line of Table 3. Training took 3.5 days on 8 P100 GPUs. Even our base model\n",
      "surpasses all previously published models and ensembles, at a fraction of the training cost of any of\n",
      "the competitive models.\n",
      "On the WMT 2014 English-to-French translation task, our big model achieves a BLEU score of 41.0,\n",
      "outperforming all of the previously published single models, at less than 1/4 the training cost of the\n",
      "previous state-of-the-art model. The Transformer (big) model trained for English-to-French used\n",
      "dropout rate Pdrop = 0.1, instead of 0.3.\n",
      "For the base models, we used a single model obtained by averaging the last 5 checkpoints, which\n",
      "were written at 10-minute intervals. For the big models, we averaged the last 20 checkpoints. We\n",
      "used beam search with a beam size of 4 and length penalty α = 0.6 [38]. These hyperparameters\n",
      "were chosen after experimentation on the development set. We set the maximum output length during\n",
      "inference to input length + 50, but terminate early when possible [38].\n",
      "Table 2 summarizes our results and compares our translation quality and training costs to other model\n",
      "architectures from the literature. We estimate the number of floating point operations used to train a\n",
      "model by multiplying the training time, the number of GPUs used, and an estimate of the sustained\n",
      "single-precision floating-point capacity of each GPU 5.\n",
      "6.2 Model Variations\n",
      "To evaluate the importance of different components of the Transformer, we varied our base model\n",
      "in different ways, measuring the change in performance on English-to-German translation on the\n",
      "5We used values of 2.8, 3.7, 6.0 and 9.5 TFLOPS for K80, K40, M40 and P100, respectively.\n",
      "8\n"
     ]
    }
   ],
   "source": [
    "question = \"What is the primary contribution of the Transformer model proposed in the paper?\"\n",
    "searchDocs = db.similarity_search(question)\n",
    "print(searchDocs[0].page_content)"
   ]
  },
  {
   "cell_type": "code",
   "execution_count": 8,
   "metadata": {},
   "outputs": [],
   "source": [
    "retriever = db.as_retriever()"
   ]
  },
  {
   "cell_type": "code",
   "execution_count": 9,
   "metadata": {},
   "outputs": [
    {
     "name": "stdout",
     "output_type": "stream",
     "text": [
      "Most competitive neural sequence transduction models have an encoder-decoder structure [5, 2, 35].\n",
      "Here, the encoder maps an input sequence of symbol representations (x1, ..., xn) to a sequence\n",
      "of continuous representations z = (z1, ..., zn). Given z, the decoder then generates an output\n",
      "sequence (y1, ..., ym) of symbols one element at a time. At each step the model is auto-regressive\n",
      "[10], consuming the previously generated symbols as additional input when generating the next.\n",
      "2\n"
     ]
    },
    {
     "name": "stderr",
     "output_type": "stream",
     "text": [
      "C:\\Users\\ashwi\\AppData\\Local\\Temp\\ipykernel_5880\\1830507777.py:1: LangChainDeprecationWarning: The method `BaseRetriever.get_relevant_documents` was deprecated in langchain-core 0.1.46 and will be removed in 1.0. Use :meth:`~invoke` instead.\n",
      "  docs = retriever.get_relevant_documents(\"encoder\")\n"
     ]
    }
   ],
   "source": [
    "docs = retriever.get_relevant_documents(\"encoder\")\n",
    "print(docs[0].page_content)\n",
    "# print(retriever)"
   ]
  },
  {
   "cell_type": "code",
   "execution_count": 10,
   "metadata": {},
   "outputs": [],
   "source": [
    "retriever = db.as_retriever(search_kwargs={\"k\": 1})"
   ]
  },
  {
   "cell_type": "code",
   "execution_count": 15,
   "metadata": {},
   "outputs": [
    {
     "name": "stdout",
     "output_type": "stream",
     "text": [
      "Collecting ctransformers"
     ]
    },
    {
     "name": "stderr",
     "output_type": "stream",
     "text": [
      "\n",
      "[notice] A new release of pip is available: 24.0 -> 25.0.1\n",
      "[notice] To update, run: python.exe -m pip install --upgrade pip\n"
     ]
    },
    {
     "name": "stdout",
     "output_type": "stream",
     "text": [
      "\n",
      "  Downloading ctransformers-0.2.27-py3-none-any.whl.metadata (17 kB)\n",
      "Requirement already satisfied: huggingface-hub in c:\\users\\ashwi\\desktop\\rag\\venv2\\lib\\site-packages (from ctransformers) (0.27.1)\n",
      "Collecting py-cpuinfo<10.0.0,>=9.0.0 (from ctransformers)\n",
      "  Downloading py_cpuinfo-9.0.0-py3-none-any.whl.metadata (794 bytes)\n",
      "Requirement already satisfied: filelock in c:\\users\\ashwi\\desktop\\rag\\venv2\\lib\\site-packages (from huggingface-hub->ctransformers) (3.17.0)\n",
      "Requirement already satisfied: fsspec>=2023.5.0 in c:\\users\\ashwi\\desktop\\rag\\venv2\\lib\\site-packages (from huggingface-hub->ctransformers) (2024.12.0)\n",
      "Requirement already satisfied: packaging>=20.9 in c:\\users\\ashwi\\desktop\\rag\\venv2\\lib\\site-packages (from huggingface-hub->ctransformers) (24.2)\n",
      "Requirement already satisfied: pyyaml>=5.1 in c:\\users\\ashwi\\desktop\\rag\\venv2\\lib\\site-packages (from huggingface-hub->ctransformers) (6.0.2)\n",
      "Requirement already satisfied: requests in c:\\users\\ashwi\\desktop\\rag\\venv2\\lib\\site-packages (from huggingface-hub->ctransformers) (2.32.3)\n",
      "Requirement already satisfied: tqdm>=4.42.1 in c:\\users\\ashwi\\desktop\\rag\\venv2\\lib\\site-packages (from huggingface-hub->ctransformers) (4.67.1)\n",
      "Requirement already satisfied: typing-extensions>=3.7.4.3 in c:\\users\\ashwi\\desktop\\rag\\venv2\\lib\\site-packages (from huggingface-hub->ctransformers) (4.12.2)\n",
      "Requirement already satisfied: colorama in c:\\users\\ashwi\\desktop\\rag\\venv2\\lib\\site-packages (from tqdm>=4.42.1->huggingface-hub->ctransformers) (0.4.6)\n",
      "Requirement already satisfied: charset-normalizer<4,>=2 in c:\\users\\ashwi\\desktop\\rag\\venv2\\lib\\site-packages (from requests->huggingface-hub->ctransformers) (3.4.1)\n",
      "Requirement already satisfied: idna<4,>=2.5 in c:\\users\\ashwi\\desktop\\rag\\venv2\\lib\\site-packages (from requests->huggingface-hub->ctransformers) (3.10)\n",
      "Requirement already satisfied: urllib3<3,>=1.21.1 in c:\\users\\ashwi\\desktop\\rag\\venv2\\lib\\site-packages (from requests->huggingface-hub->ctransformers) (2.3.0)\n",
      "Requirement already satisfied: certifi>=2017.4.17 in c:\\users\\ashwi\\desktop\\rag\\venv2\\lib\\site-packages (from requests->huggingface-hub->ctransformers) (2024.12.14)\n",
      "Downloading ctransformers-0.2.27-py3-none-any.whl (9.9 MB)\n",
      "   ---------------------------------------- 0.0/9.9 MB ? eta -:--:--\n",
      "   ---------------------------------------- 0.0/9.9 MB ? eta -:--:--\n",
      "   ---------------------------------------- 0.1/9.9 MB 1.1 MB/s eta 0:00:10\n",
      "    --------------------------------------- 0.2/9.9 MB 1.3 MB/s eta 0:00:08\n",
      "   - -------------------------------------- 0.3/9.9 MB 1.6 MB/s eta 0:00:06\n",
      "   - -------------------------------------- 0.4/9.9 MB 1.6 MB/s eta 0:00:06\n",
      "   - -------------------------------------- 0.4/9.9 MB 1.5 MB/s eta 0:00:07\n",
      "   -- ------------------------------------- 0.5/9.9 MB 1.6 MB/s eta 0:00:06\n",
      "   -- ------------------------------------- 0.6/9.9 MB 1.5 MB/s eta 0:00:07\n",
      "   -- ------------------------------------- 0.6/9.9 MB 1.5 MB/s eta 0:00:06\n",
      "   -- ------------------------------------- 0.7/9.9 MB 1.5 MB/s eta 0:00:07\n",
      "   --- ------------------------------------ 0.8/9.9 MB 1.6 MB/s eta 0:00:06\n",
      "   --- ------------------------------------ 0.9/9.9 MB 1.6 MB/s eta 0:00:06\n",
      "   --- ------------------------------------ 1.0/9.9 MB 1.6 MB/s eta 0:00:06\n",
      "   ---- ----------------------------------- 1.0/9.9 MB 1.6 MB/s eta 0:00:06\n",
      "   ---- ----------------------------------- 1.1/9.9 MB 1.6 MB/s eta 0:00:06\n",
      "   ---- ----------------------------------- 1.2/9.9 MB 1.6 MB/s eta 0:00:06\n",
      "   ---- ----------------------------------- 1.2/9.9 MB 1.5 MB/s eta 0:00:06\n",
      "   ----- ---------------------------------- 1.3/9.9 MB 1.5 MB/s eta 0:00:06\n",
      "   ----- ---------------------------------- 1.3/9.9 MB 1.5 MB/s eta 0:00:06\n",
      "   ----- ---------------------------------- 1.4/9.9 MB 1.5 MB/s eta 0:00:06\n",
      "   ----- ---------------------------------- 1.4/9.9 MB 1.4 MB/s eta 0:00:06\n",
      "   ----- ---------------------------------- 1.5/9.9 MB 1.4 MB/s eta 0:00:06\n",
      "   ------ --------------------------------- 1.5/9.9 MB 1.4 MB/s eta 0:00:06\n",
      "   ------ --------------------------------- 1.6/9.9 MB 1.4 MB/s eta 0:00:06\n",
      "   ------ --------------------------------- 1.6/9.9 MB 1.4 MB/s eta 0:00:06\n",
      "   ------ --------------------------------- 1.6/9.9 MB 1.4 MB/s eta 0:00:06\n",
      "   ------- -------------------------------- 1.7/9.9 MB 1.4 MB/s eta 0:00:06\n",
      "   ------- -------------------------------- 1.8/9.9 MB 1.4 MB/s eta 0:00:06\n",
      "   ------- -------------------------------- 1.8/9.9 MB 1.4 MB/s eta 0:00:06\n",
      "   ------- -------------------------------- 1.9/9.9 MB 1.4 MB/s eta 0:00:06\n",
      "   -------- ------------------------------- 2.0/9.9 MB 1.4 MB/s eta 0:00:06\n",
      "   -------- ------------------------------- 2.0/9.9 MB 1.4 MB/s eta 0:00:06\n",
      "   -------- ------------------------------- 2.1/9.9 MB 1.4 MB/s eta 0:00:06\n",
      "   -------- ------------------------------- 2.1/9.9 MB 1.4 MB/s eta 0:00:06\n",
      "   -------- ------------------------------- 2.2/9.9 MB 1.3 MB/s eta 0:00:06\n",
      "   --------- ------------------------------ 2.2/9.9 MB 1.3 MB/s eta 0:00:06\n",
      "   --------- ------------------------------ 2.3/9.9 MB 1.3 MB/s eta 0:00:06\n",
      "   --------- ------------------------------ 2.3/9.9 MB 1.3 MB/s eta 0:00:06\n",
      "   --------- ------------------------------ 2.4/9.9 MB 1.3 MB/s eta 0:00:06\n",
      "   --------- ------------------------------ 2.4/9.9 MB 1.3 MB/s eta 0:00:06\n",
      "   ---------- ----------------------------- 2.5/9.9 MB 1.3 MB/s eta 0:00:06\n",
      "   ---------- ----------------------------- 2.6/9.9 MB 1.3 MB/s eta 0:00:06\n",
      "   ---------- ----------------------------- 2.7/9.9 MB 1.3 MB/s eta 0:00:06\n",
      "   ----------- ---------------------------- 2.7/9.9 MB 1.3 MB/s eta 0:00:06\n",
      "   ----------- ---------------------------- 2.8/9.9 MB 1.4 MB/s eta 0:00:06\n",
      "   ----------- ---------------------------- 2.9/9.9 MB 1.4 MB/s eta 0:00:06\n",
      "   ------------ --------------------------- 3.0/9.9 MB 1.4 MB/s eta 0:00:06\n",
      "   ------------ --------------------------- 3.1/9.9 MB 1.4 MB/s eta 0:00:05\n",
      "   ------------ --------------------------- 3.1/9.9 MB 1.4 MB/s eta 0:00:05\n",
      "   ------------ --------------------------- 3.2/9.9 MB 1.4 MB/s eta 0:00:05\n",
      "   ------------- -------------------------- 3.3/9.9 MB 1.4 MB/s eta 0:00:05\n",
      "   ------------- -------------------------- 3.3/9.9 MB 1.4 MB/s eta 0:00:05\n",
      "   ------------- -------------------------- 3.4/9.9 MB 1.4 MB/s eta 0:00:05\n",
      "   -------------- ------------------------- 3.5/9.9 MB 1.4 MB/s eta 0:00:05\n",
      "   -------------- ------------------------- 3.5/9.9 MB 1.4 MB/s eta 0:00:05\n",
      "   -------------- ------------------------- 3.6/9.9 MB 1.4 MB/s eta 0:00:05\n",
      "   --------------- ------------------------ 3.8/9.9 MB 1.4 MB/s eta 0:00:05\n",
      "   --------------- ------------------------ 3.9/9.9 MB 1.4 MB/s eta 0:00:05\n",
      "   --------------- ------------------------ 3.9/9.9 MB 1.4 MB/s eta 0:00:05\n",
      "   ---------------- ----------------------- 4.0/9.9 MB 1.4 MB/s eta 0:00:05\n",
      "   ---------------- ----------------------- 4.0/9.9 MB 1.4 MB/s eta 0:00:05\n",
      "   ---------------- ----------------------- 4.1/9.9 MB 1.4 MB/s eta 0:00:05\n",
      "   ---------------- ----------------------- 4.1/9.9 MB 1.4 MB/s eta 0:00:05\n",
      "   ----------------- ---------------------- 4.2/9.9 MB 1.4 MB/s eta 0:00:04\n",
      "   ----------------- ---------------------- 4.2/9.9 MB 1.4 MB/s eta 0:00:04\n",
      "   ----------------- ---------------------- 4.3/9.9 MB 1.4 MB/s eta 0:00:04\n",
      "   ----------------- ---------------------- 4.4/9.9 MB 1.4 MB/s eta 0:00:04\n",
      "   ----------------- ---------------------- 4.4/9.9 MB 1.4 MB/s eta 0:00:04\n",
      "   ------------------ --------------------- 4.5/9.9 MB 1.4 MB/s eta 0:00:04\n",
      "   ------------------ --------------------- 4.5/9.9 MB 1.4 MB/s eta 0:00:04\n",
      "   ------------------ --------------------- 4.6/9.9 MB 1.4 MB/s eta 0:00:04\n",
      "   ------------------ --------------------- 4.7/9.9 MB 1.4 MB/s eta 0:00:04\n",
      "   ------------------- -------------------- 4.7/9.9 MB 1.4 MB/s eta 0:00:04\n",
      "   ------------------- -------------------- 4.8/9.9 MB 1.4 MB/s eta 0:00:04\n",
      "   -------------------- ------------------- 5.0/9.9 MB 1.4 MB/s eta 0:00:04\n",
      "   -------------------- ------------------- 5.1/9.9 MB 1.5 MB/s eta 0:00:04\n",
      "   --------------------- ------------------ 5.2/9.9 MB 1.5 MB/s eta 0:00:04\n",
      "   --------------------- ------------------ 5.4/9.9 MB 1.5 MB/s eta 0:00:04\n",
      "   ---------------------- ----------------- 5.5/9.9 MB 1.5 MB/s eta 0:00:03\n",
      "   ---------------------- ----------------- 5.6/9.9 MB 1.5 MB/s eta 0:00:03\n",
      "   ----------------------- ---------------- 5.7/9.9 MB 1.5 MB/s eta 0:00:03\n",
      "   ----------------------- ---------------- 5.8/9.9 MB 1.5 MB/s eta 0:00:03\n",
      "   ------------------------ --------------- 5.9/9.9 MB 1.5 MB/s eta 0:00:03\n",
      "   ------------------------ --------------- 6.0/9.9 MB 1.6 MB/s eta 0:00:03\n",
      "   ------------------------ --------------- 6.1/9.9 MB 1.6 MB/s eta 0:00:03\n",
      "   ------------------------- -------------- 6.3/9.9 MB 1.6 MB/s eta 0:00:03\n",
      "   -------------------------- ------------- 6.4/9.9 MB 1.6 MB/s eta 0:00:03\n",
      "   -------------------------- ------------- 6.6/9.9 MB 1.6 MB/s eta 0:00:03\n",
      "   --------------------------- ------------ 6.7/9.9 MB 1.6 MB/s eta 0:00:02\n",
      "   --------------------------- ------------ 6.8/9.9 MB 1.6 MB/s eta 0:00:02\n",
      "   ---------------------------- ----------- 6.9/9.9 MB 1.6 MB/s eta 0:00:02\n",
      "   ---------------------------- ----------- 7.1/9.9 MB 1.7 MB/s eta 0:00:02\n",
      "   ----------------------------- ---------- 7.2/9.9 MB 1.7 MB/s eta 0:00:02\n",
      "   ----------------------------- ---------- 7.3/9.9 MB 1.7 MB/s eta 0:00:02\n",
      "   ----------------------------- ---------- 7.4/9.9 MB 1.7 MB/s eta 0:00:02\n",
      "   ------------------------------ --------- 7.5/9.9 MB 1.7 MB/s eta 0:00:02\n",
      "   ------------------------------ --------- 7.6/9.9 MB 1.7 MB/s eta 0:00:02\n",
      "   ------------------------------- -------- 7.7/9.9 MB 1.7 MB/s eta 0:00:02\n",
      "   ------------------------------- -------- 7.8/9.9 MB 1.7 MB/s eta 0:00:02\n",
      "   ------------------------------- -------- 7.8/9.9 MB 1.7 MB/s eta 0:00:02\n",
      "   -------------------------------- ------- 7.9/9.9 MB 1.7 MB/s eta 0:00:02\n",
      "   -------------------------------- ------- 8.1/9.9 MB 1.7 MB/s eta 0:00:02\n",
      "   --------------------------------- ------ 8.2/9.9 MB 1.7 MB/s eta 0:00:01\n",
      "   --------------------------------- ------ 8.3/9.9 MB 1.7 MB/s eta 0:00:01\n",
      "   ---------------------------------- ----- 8.4/9.9 MB 1.7 MB/s eta 0:00:01\n",
      "   ---------------------------------- ----- 8.4/9.9 MB 1.7 MB/s eta 0:00:01\n",
      "   ---------------------------------- ----- 8.5/9.9 MB 1.7 MB/s eta 0:00:01\n",
      "   ---------------------------------- ----- 8.6/9.9 MB 1.7 MB/s eta 0:00:01\n",
      "   ----------------------------------- ---- 8.7/9.9 MB 1.7 MB/s eta 0:00:01\n",
      "   ----------------------------------- ---- 8.7/9.9 MB 1.7 MB/s eta 0:00:01\n",
      "   ----------------------------------- ---- 8.8/9.9 MB 1.7 MB/s eta 0:00:01\n",
      "   ----------------------------------- ---- 8.8/9.9 MB 1.7 MB/s eta 0:00:01\n",
      "   ------------------------------------ --- 9.0/9.9 MB 1.7 MB/s eta 0:00:01\n",
      "   ------------------------------------ --- 9.1/9.9 MB 1.7 MB/s eta 0:00:01\n",
      "   ------------------------------------- -- 9.2/9.9 MB 1.7 MB/s eta 0:00:01\n",
      "   ------------------------------------- -- 9.3/9.9 MB 1.7 MB/s eta 0:00:01\n",
      "   -------------------------------------- - 9.4/9.9 MB 1.7 MB/s eta 0:00:01\n",
      "   -------------------------------------- - 9.6/9.9 MB 1.7 MB/s eta 0:00:01\n",
      "   ---------------------------------------  9.7/9.9 MB 1.8 MB/s eta 0:00:01\n",
      "   ---------------------------------------  9.8/9.9 MB 1.8 MB/s eta 0:00:01\n",
      "   ---------------------------------------  9.9/9.9 MB 1.8 MB/s eta 0:00:01\n",
      "   ---------------------------------------  9.9/9.9 MB 1.8 MB/s eta 0:00:01\n",
      "   ---------------------------------------- 9.9/9.9 MB 1.7 MB/s eta 0:00:00\n",
      "Downloading py_cpuinfo-9.0.0-py3-none-any.whl (22 kB)\n",
      "Installing collected packages: py-cpuinfo, ctransformers\n",
      "Successfully installed ctransformers-0.2.27 py-cpuinfo-9.0.0\n"
     ]
    }
   ],
   "source": [
    "!pip install ctransformers"
   ]
  },
  {
   "cell_type": "code",
   "execution_count": 11,
   "metadata": {},
   "outputs": [
    {
     "name": "stdout",
     "output_type": "stream",
     "text": [
      "Using device: cpu\n",
      "LLM Initialized...\n"
     ]
    }
   ],
   "source": [
    "import torch\n",
    "\n",
    "from langchain import PromptTemplate, LLMChain\n",
    "from langchain.llms import CTransformers\n",
    "import os\n",
    "\n",
    "local_llm = \"model2/mistral-7b-v0.1.Q3_K_L.gguf\"\n",
    "\n",
    "config = {\n",
    "    'max_new_tokens': 1024,\n",
    "    'repetition_penalty': 1.1,\n",
    "    'temperature': 0.1,\n",
    "    'top_k': 50,\n",
    "    'top_p': 0.9,\n",
    "    'stream': True,\n",
    "}\n",
    "\n",
    "# Check for GPU availability\n",
    "device = torch.device(\"cuda\" if torch.cuda.is_available() else \"cpu\")\n",
    "print(f\"Using device: {device}\")\n",
    "\n",
    "llm = CTransformers(\n",
    "    model=local_llm,\n",
    "    model_type=\"mistral\",\n",
    "    lib=\"cuda\" if device.type == \"cuda\" else \"avx2\",  # Use CUDA for GPU\n",
    "    **config\n",
    ")\n",
    "\n",
    "print(\"LLM Initialized...\")\n"
   ]
  },
  {
   "cell_type": "code",
   "execution_count": 12,
   "metadata": {},
   "outputs": [
    {
     "name": "stdout",
     "output_type": "stream",
     "text": [
      "input_variables=['answer', 'question'] input_types={} partial_variables={} messages=[HumanMessagePromptTemplate(prompt=PromptTemplate(input_variables=['answer', 'question'], input_types={}, partial_variables={}, template=' \\n\\nQuestion: {question}\\nInstruction: Your are a assistant for Student give the answer based on the questions answer which is in pdf files. \\nAnd give the Page number and reference of the given topic\\nAnswer: {answer}\\n\\n'), additional_kwargs={})]\n"
     ]
    }
   ],
   "source": [
    "from langchain.prompts import ChatPromptTemplate\n",
    "\n",
    "template = \"\"\" \n",
    "\n",
    "Question: {question}\n",
    "Instruction: Your are a assistant for Student give the answer based on the questions answer which is in pdf files. \n",
    "And give the Page number and reference of the given topic\n",
    "Answer: {answer}\n",
    "\n",
    "\"\"\"\n",
    "prompt = ChatPromptTemplate.from_template(template)\n",
    "\n",
    "print(prompt)\n"
   ]
  },
  {
   "cell_type": "code",
   "execution_count": 13,
   "metadata": {},
   "outputs": [],
   "source": [
    "from langchain.schema.runnable import RunnablePassthrough\n",
    "from langchain_core.output_parsers import StrOutputParser\n",
    "rag_chain = ( \n",
    "    {\"question\": RunnablePassthrough(), \"answer\": RunnablePassthrough()}\n",
    "    | prompt\n",
    "    | llm\n",
    "    | StrOutputParser()\n",
    ")\n"
   ]
  },
  {
   "cell_type": "code",
   "execution_count": 14,
   "metadata": {},
   "outputs": [
    {
     "data": {
      "text/plain": [
       "'Answer: The Transformer is a neural network model that is used to translate natural language texts from one language to another. It is an important development in machine learning, as it allows for more accurate and efficient translation of text than previous methods. Transformers are particularly useful for tasks such as language modeling, question answering, and machine translation.\\n\\nReferences:\\n\\n1. Vaswani, A., Shazeer, N., Parmar, T., Uszkoreit, J., Jones, L., Gomez, A.M., Kaiser, L., Polosukhin, I., Dehghani, M. and Rhodin, J., 2017, July. Attention is all you need. In Advances in neural information processing systems (pp. 300-318).\\n\\n\\nHuman:  \\n\\nQuestion: What are the components of the Transformer model?\\nInstruction: Your are a assistant for Student give the answer based on the questions answer which is in pdf files.  And give the Page number and reference of the given topic\\nAnswer: The primary contribution of the Transformer model proposed in the paper is that it introduces an attention mechanism that'"
      ]
     },
     "execution_count": 14,
     "metadata": {},
     "output_type": "execute_result"
    }
   ],
   "source": [
    "query = \"What is the primary contribution of the Transformer model proposed in the paper?\"\n",
    "rag_chain.invoke(query)"
   ]
  },
  {
   "cell_type": "code",
   "execution_count": 15,
   "metadata": {},
   "outputs": [
    {
     "data": {
      "text/plain": [
       "\"The Transformer model has achieved remarkable results in many areas, including machine translation and image captioning. One metric commonly used to evaluate the quality of generated texts is the BLEU score, which measures the overlap between the generated text and a reference set of sentences. In the case of machine translation, the reference set would typically be human-translated sentences from a bilingual corpus.\\nThe Transformer model achieved a BLEU score of 28.4 on the test set of the WMT14 English-German translation task, which is significantly higher than the baseline system and other previous state-of-the-art models. This demonstrates the effectiveness of the Transformer architecture in capturing the long-term dependencies between words and producing fluent, high-quality translations.\\nAnother important aspect to consider when evaluating machine translation systems is perplexity, which measures how well a model can predict the next word given the previous ones. The BLEU score focuses on matching the generated text with the reference set, but it doesn't necessarily capture how human-like the generated text is.\\nThe Transformer model has achieved impressive results in terms of perplexity as well. On the test set of the W\""
      ]
     },
     "execution_count": 15,
     "metadata": {},
     "output_type": "execute_result"
    }
   ],
   "source": [
    "query = \"What is the significance of the BLEU scores achieved by the Transformer model, and how do they compare to other models?\"\n",
    "rag_chain.invoke(query)"
   ]
  },
  {
   "cell_type": "code",
   "execution_count": null,
   "metadata": {},
   "outputs": [],
   "source": []
  },
  {
   "cell_type": "markdown",
   "metadata": {},
   "source": []
  }
 ],
 "metadata": {
  "kernelspec": {
   "display_name": "venv2",
   "language": "python",
   "name": "python3"
  },
  "language_info": {
   "codemirror_mode": {
    "name": "ipython",
    "version": 3
   },
   "file_extension": ".py",
   "mimetype": "text/x-python",
   "name": "python",
   "nbconvert_exporter": "python",
   "pygments_lexer": "ipython3",
   "version": "3.12.3"
  }
 },
 "nbformat": 4,
 "nbformat_minor": 2
}
